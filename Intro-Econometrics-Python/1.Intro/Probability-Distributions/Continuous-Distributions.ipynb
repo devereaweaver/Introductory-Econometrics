{
 "cells": [
  {
   "cell_type": "markdown",
   "id": "30f74ca7-7372-4409-bf30-0bc2551524c4",
   "metadata": {},
   "source": [
    "# Continuous Distributions \n",
    "\n",
    "The most common PDFs are implemented in scipy. We can use them to plot the density functions, for example the standard normal.\n",
    "\n",
    "\n",
    "Recall from Math-Stats, the CDF represents the probability that the random variable X tavkes on a values *at most* x. Also, the probability $P(a < X \\leq b ) = F(b) - F(a)$.\n",
    "\n",
    "Similary to the discrete distributions, we can simply use the scipy functions in order to compute CDFs. \n",
    "\n",
    "As an example, we'll continue with the previous example of a pulling a white ball from an urn with a probability of .2 without replacement."
   ]
  },
  {
   "cell_type": "code",
   "execution_count": 1,
   "id": "c02876f2-119c-44a7-aab9-22f4a4b06948",
   "metadata": {},
   "outputs": [],
   "source": [
    "import scipy.stats as stats\n",
    "import numpy as np\n",
    "import matplotlib.pyplot as plt"
   ]
  },
  {
   "cell_type": "code",
   "execution_count": 2,
   "id": "0685c696-04ba-4332-82da-a4769901b6bb",
   "metadata": {},
   "outputs": [
    {
     "data": {
      "text/plain": [
       "Text(0.5, 1.0, 'Standard Normal Distribution')"
      ]
     },
     "execution_count": 2,
     "metadata": {},
     "output_type": "execute_result"
    },
    {
     "data": {
      "image/png": "[encoded data removed]",
      "text/plain": [
       "<Figure size 432x288 with 1 Axes>"
      ]
     },
     "metadata": {
      "needs_background": "light"
     },
     "output_type": "display_data"
    }
   ],
   "source": [
    "# plot standard normal distribution (continuous example)\n",
    "x_range = np.linspace(-4, 4, num = 100)    # generate 100 evenly spaced samples from (-4, 4)\n",
    "\n",
    "# solve pdf for all values in interval \n",
    "pdf = stats.norm.pdf(x_range)\n",
    "\n",
    "plt.plot(x_range, pdf, linestyle='-', color='red')\n",
    "plt.xlabel('x')\n",
    "plt.ylabel('d(x)')\n",
    "plt.title('Standard Normal Distribution')"
   ]
  },
  {
   "cell_type": "code",
   "execution_count": 3,
   "id": "0a4de7eb-731f-486f-adad-d821fea66617",
   "metadata": {},
   "outputs": [
    {
     "name": "stdout",
     "output_type": "stream",
     "text": [
      "p1: 0.8791261183999999\n",
      "\n"
     ]
    }
   ],
   "source": [
    "# binomial CDF\n",
    "p1 = stats.binom.cdf(3, 10, 0.2)\n",
    "print(f'p1: {p1}\\n')"
   ]
  },
  {
   "cell_type": "code",
   "execution_count": 4,
   "id": "611c3b85-fb51-4e7c-a378-2555e017b145",
   "metadata": {},
   "outputs": [
    {
     "name": "stdout",
     "output_type": "stream",
     "text": [
      "p2: 0.950004209703559\n",
      "\n"
     ]
    }
   ],
   "source": [
    "# normal CDF\n",
    "p2 = stats.norm.cdf(1.96) - stats.norm.cdf(-1.96)\n",
    "print(f'p2: {p2}\\n')"
   ]
  },
  {
   "cell_type": "markdown",
   "id": "394e94fe-7b28-46a1-9c0d-6fab77194c1c",
   "metadata": {},
   "source": [
    "**TO DO:** Pick up with next example later"
   ]
  },
  {
   "cell_type": "markdown",
   "id": "d0b6a71e-d515-45a5-b658-4c5103ed479a",
   "metadata": {},
   "source": [
    "---\n",
    "\n",
    "## Quantile Function \n",
    "\n",
    "The q-quantile of a random variable is the value for which the probability to sample a value is $x \\le x[q]$. These are important for evaluating critical values of test statistics...however I'm sure the built-in functions for computing statistical tests are more than sufficient. \n",
    "\n",
    "As an example, given X follows a standard normal distribution, the .975 quantile is approx. 1.96. This means the probability to sample a value less or equal to 1.96 is 97.5%. "
   ]
  },
  {
   "cell_type": "code",
   "execution_count": 5,
   "id": "32289f80-8a7d-4101-ab77-9ba96cabb905",
   "metadata": {},
   "outputs": [
    {
     "data": {
      "text/plain": [
       "1.959963984540054"
      ]
     },
     "execution_count": 5,
     "metadata": {},
     "output_type": "execute_result"
    }
   ],
   "source": [
    "q_975 = stats.norm.ppf(0.975)\n",
    "q_975"
   ]
  },
  {
   "cell_type": "markdown",
   "id": "2e1ee357-bb39-440d-a4e1-ab337ba6d2e3",
   "metadata": {},
   "source": [
    "---\n",
    "\n",
    "## Random Draws from Probability Distributions \n",
    "\n",
    "This section reviews the mechanics of using a pseudo-random number generator that we can than make heavy use of later when generating random samples. \n",
    "\n",
    "To generate random samples from a distribution, we combine the name of the distribution with the function name. "
   ]
  },
  {
   "cell_type": "code",
   "execution_count": 6,
   "id": "e0a95536-38a8-4d49-b7fc-d72d0e8b7814",
   "metadata": {},
   "outputs": [
    {
     "name": "stdout",
     "output_type": "stream",
     "text": [
      "Bernoulli sample: [0 1 0 0 1 0 0 0 1 0]\n",
      "\n"
     ]
    }
   ],
   "source": [
    "# as a simple example, simulate flipping a fair coin 10 times (Bernoulli distribution with parameter p = .5)\n",
    "sample = stats.bernoulli.rvs(0.5, size = 10)\n",
    "print(f'Bernoulli sample: {sample}\\n')"
   ]
  },
  {
   "cell_type": "code",
   "execution_count": 7,
   "id": "f0083f1b-dca8-422f-b4bc-8dc38033d50b",
   "metadata": {},
   "outputs": [
    {
     "name": "stdout",
     "output_type": "stream",
     "text": [
      "Standard Normal sample: [-0.04169275 -3.01765909 -0.6837145   1.6841826   1.39183978  1.16348169\n",
      " -0.42395809 -0.5930812   0.3493592   0.51756448]\n",
      "\n"
     ]
    }
   ],
   "source": [
    "# take draws from the standard normal distribution \n",
    "sample = stats.norm.rvs(size = 10)\n",
    "print(f'Standard Normal sample: {sample}\\n')"
   ]
  },
  {
   "cell_type": "markdown",
   "id": "1f13cee7-dfd7-4483-92c9-5e49e1c50873",
   "metadata": {},
   "source": [
    "<br>In order to create reproducible samples, let's set the seed. By setting the seed, we can initialize the RNG to a specific state each time that will produce the same results. "
   ]
  },
  {
   "cell_type": "code",
   "execution_count": 10,
   "id": "8f1a7d18-a7be-4756-ae87-5bfef93c279f",
   "metadata": {},
   "outputs": [
    {
     "name": "stdout",
     "output_type": "stream",
     "text": [
      "Sample 1: [ 0.71849388  0.16521124 -0.64987651 -0.12046896 -0.17459929]\n",
      "\n"
     ]
    }
   ],
   "source": [
    "# sample from standard normal RV with sample size n=5\n",
    "sample1 = stats.norm.rvs(size=5)\n",
    "print(f'Sample 1: {sample1}\\n')"
   ]
  },
  {
   "cell_type": "code",
   "execution_count": 11,
   "id": "9faa9502-6c1b-4024-87cd-271240d226c0",
   "metadata": {},
   "outputs": [
    {
     "name": "stdout",
     "output_type": "stream",
     "text": [
      "Sample 2: [-0.01665524 -0.84767691 -0.33276146 -0.46103192 -0.07172645]\n",
      "\n"
     ]
    }
   ],
   "source": [
    "# different sample, same distribution \n",
    "sample2 = stats.norm.rvs(size=5)\n",
    "print(f'Sample 2: {sample2}\\n')"
   ]
  },
  {
   "cell_type": "code",
   "execution_count": 16,
   "id": "9b83a5d9-d241-47b1-a366-3748f46c1e60",
   "metadata": {},
   "outputs": [
    {
     "data": {
      "text/plain": [
       "array([ 1.18545933, -0.261977  ,  0.30894761, -2.23354318,  0.17612456])"
      ]
     },
     "execution_count": 16,
     "metadata": {},
     "output_type": "execute_result"
    }
   ],
   "source": [
    "# set the set of rng and take two independent samples \n",
    "np.random.seed(6254137) \n",
    "sample3 = stats.norm.rvs(size=5)\n",
    "sample3"
   ]
  },
  {
   "cell_type": "code",
   "execution_count": 17,
   "id": "b9a8c0bc-d0ee-479b-8b18-a784bfceedbb",
   "metadata": {},
   "outputs": [
    {
     "data": {
      "text/plain": [
       "array([-0.17500741, -1.30835159,  0.5036692 ,  0.14991385,  0.99957472])"
      ]
     },
     "execution_count": 17,
     "metadata": {},
     "output_type": "execute_result"
    }
   ],
   "source": [
    "sample4 = stats.norm.rvs(size=5)\n",
    "sample4"
   ]
  },
  {
   "cell_type": "code",
   "execution_count": 19,
   "id": "39668b8a-3613-4950-8db7-c53a83b32c55",
   "metadata": {},
   "outputs": [
    {
     "data": {
      "text/plain": [
       "array([ 1.18545933, -0.261977  ,  0.30894761, -2.23354318,  0.17612456])"
      ]
     },
     "execution_count": 19,
     "metadata": {},
     "output_type": "execute_result"
    }
   ],
   "source": [
    "np.random.seed(6254137)\n",
    "sample5 = stats.norm.rvs(size=5)\n",
    "sample5"
   ]
  },
  {
   "cell_type": "code",
   "execution_count": 20,
   "id": "2ac7a97d-9805-4989-a54d-78434765f416",
   "metadata": {},
   "outputs": [
    {
     "data": {
      "text/plain": [
       "array([-0.17500741, -1.30835159,  0.5036692 ,  0.14991385,  0.99957472])"
      ]
     },
     "execution_count": 20,
     "metadata": {},
     "output_type": "execute_result"
    }
   ],
   "source": [
    "sample6 = stats.norm.rvs(size=5)\n",
    "sample6"
   ]
  }
 ],
 "metadata": {
  "kernelspec": {
   "display_name": "Python 3 (ipykernel)",
   "language": "python",
   "name": "python3"
  },
  "language_info": {
   "codemirror_mode": {
    "name": "ipython",
    "version": 3
   },
   "file_extension": ".py",
   "mimetype": "text/x-python",
   "name": "python",
   "nbconvert_exporter": "python",
   "pygments_lexer": "ipython3",
   "version": "3.9.12"
  }
 },
 "nbformat": 4,
 "nbformat_minor": 5
}
