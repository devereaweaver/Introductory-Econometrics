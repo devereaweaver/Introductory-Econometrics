{
 "cells": [
  {
   "cell_type": "markdown",
   "id": "34aa434c-6a2a-46a2-83d2-d2f74e610f77",
   "metadata": {},
   "source": [
    "# Fundamental Statistics \n",
    "\n",
    "This section reviews some of the fundamental descriptive statistics using Python."
   ]
  },
  {
   "cell_type": "code",
   "execution_count": 16,
   "id": "c1703f50-7517-4a91-aee8-495c8f8e773b",
   "metadata": {},
   "outputs": [],
   "source": [
    "import wooldridge as wool\n",
    "import numpy as np\n",
    "import matplotlib.pyplot as plt\n",
    "\n",
    "ceo_sal = wool.dataWoo('ceosal1')"
   ]
  },
  {
   "cell_type": "code",
   "execution_count": 7,
   "id": "51f54da7-6259-4d38-ab68-70c60558fe65",
   "metadata": {},
   "outputs": [],
   "source": [
    "roe = ceo_sal.roe\n",
    "salary = ceo_sal.salary"
   ]
  },
  {
   "cell_type": "code",
   "execution_count": 9,
   "id": "044afc79-9659-4565-8f1f-b28336fe8ab5",
   "metadata": {},
   "outputs": [
    {
     "name": "stdout",
     "output_type": "stream",
     "text": [
      "row_mean: 1281.1196172248804\n",
      "\n"
     ]
    }
   ],
   "source": [
    "# sample averages \n",
    "roe_mean = np.mean(salary)\n",
    "print(f'row_mean: {roe_mean}\\n')"
   ]
  },
  {
   "cell_type": "code",
   "execution_count": 10,
   "id": "b9112be9-400c-4670-8ec3-5bcaa08b68dc",
   "metadata": {},
   "outputs": [
    {
     "name": "stdout",
     "output_type": "stream",
     "text": [
      "roe_med: 1039.0\n",
      "\n"
     ]
    }
   ],
   "source": [
    "# sample median \n",
    "roe_med = np.median(salary)\n",
    "print(f'roe_med: {roe_med}\\n')"
   ]
  },
  {
   "cell_type": "code",
   "execution_count": 11,
   "id": "a4dd8dda-a94a-4ce5-8906-c9174595e08b",
   "metadata": {},
   "outputs": [
    {
     "name": "stdout",
     "output_type": "stream",
     "text": [
      "row_sd: 1372.3453079588883\n",
      "\n"
     ]
    }
   ],
   "source": [
    "# standard deviation \n",
    "row_sd = np.std(salary, ddof=1)    # ddof=1 for sample \n",
    "print(f'row_sd: {row_sd}\\n')"
   ]
  },
  {
   "cell_type": "code",
   "execution_count": 13,
   "id": "8e61f157-4c53-4b27-9e7d-f0f5dc13d506",
   "metadata": {},
   "outputs": [
    {
     "name": "stdout",
     "output_type": "stream",
     "text": [
      "row_corr: \n",
      "[[1.         0.11484173]\n",
      " [0.11484173 1.        ]]\n",
      "\n"
     ]
    }
   ],
   "source": [
    "# salary correlation with ROE\n",
    "roe_corr = np.corrcoef(roe, salary)\n",
    "print(f'row_corr: \\n{roe_corr}\\n')"
   ]
  },
  {
   "cell_type": "markdown",
   "id": "63407d1b-913a-4828-869e-d28e3adde4b0",
   "metadata": {},
   "source": [
    "<br>Next, we will demonstrate how to generate a boxplot of our data."
   ]
  },
  {
   "cell_type": "code",
   "execution_count": 17,
   "id": "5e0c3264-9086-469f-849a-7575a4b4db27",
   "metadata": {},
   "outputs": [],
   "source": [
    "consprod = ceo_sal.consprod"
   ]
  },
  {
   "cell_type": "code",
   "execution_count": 18,
   "id": "23575430-2819-4997-8faa-e70ec25276ab",
   "metadata": {},
   "outputs": [
    {
     "data": {
      "text/plain": [
       "Text(0, 0.5, 'roe')"
      ]
     },
     "execution_count": 18,
     "metadata": {},
     "output_type": "execute_result"
    },
    {
     "data": {
      "image/png": "[encoded data removed]",
      "text/plain": [
       "<Figure size 432x288 with 1 Axes>"
      ]
     },
     "metadata": {
      "needs_background": "light"
     },
     "output_type": "display_data"
    }
   ],
   "source": [
    "# plot descriptive statistics\n",
    "plt.boxplot(roe, vert=False)\n",
    "plt.ylabel('roe')"
   ]
  },
  {
   "cell_type": "code",
   "execution_count": 21,
   "id": "b6e60bad-641a-4fcb-9bc2-b6de28d82b0c",
   "metadata": {},
   "outputs": [
    {
     "data": {
      "text/plain": [
       "Text(0, 0.5, 'roe')"
      ]
     },
     "execution_count": 21,
     "metadata": {},
     "output_type": "execute_result"
    },
    {
     "data": {
      "image/png": "[encoded data removed]",
      "text/plain": [
       "<Figure size 432x288 with 1 Axes>"
      ]
     },
     "metadata": {
      "needs_background": "light"
     },
     "output_type": "display_data"
    }
   ],
   "source": [
    "# side-by-side boxplot for two subgroups\n",
    "roe_cp0 = roe[consprod == 0]\n",
    "roe_cp1 = roe[consprod == 1]\n",
    "\n",
    "plt.boxplot([roe_cp0, roe_cp1])\n",
    "plt.ylabel('roe')"
   ]
  },
  {
   "cell_type": "markdown",
   "id": "1e2aa418-6f4b-4c7d-bd16-157dec835c17",
   "metadata": {},
   "source": [
    "<br>The second boxplot is a side-by-side boxplot of two subgroups. The first subgroup represents firms that are consumer product businesses and the other group are not. Just based on the boxplots, one can see the ROE is higher in the second group."
   ]
  }
 ],
 "metadata": {
  "kernelspec": {
   "display_name": "Python 3 (ipykernel)",
   "language": "python",
   "name": "python3"
  },
  "language_info": {
   "codemirror_mode": {
    "name": "ipython",
    "version": 3
   },
   "file_extension": ".py",
   "mimetype": "text/x-python",
   "name": "python",
   "nbconvert_exporter": "python",
   "pygments_lexer": "ipython3",
   "version": "3.9.12"
  }
 },
 "nbformat": 4,
 "nbformat_minor": 5
}
