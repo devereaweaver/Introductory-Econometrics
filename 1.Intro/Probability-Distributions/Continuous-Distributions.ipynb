{
 "cells": [
  {
   "cell_type": "markdown",
   "id": "30f74ca7-7372-4409-bf30-0bc2551524c4",
   "metadata": {},
   "source": [
    "# Continuous Distributions \n"
   ]
  }
 ],
 "metadata": {
  "kernelspec": {
   "display_name": "Python 3 (ipykernel)",
   "language": "python",
   "name": "python3"
  },
  "language_info": {
   "codemirror_mode": {
    "name": "ipython",
    "version": 3
   },
   "file_extension": ".py",
   "mimetype": "text/x-python",
   "name": "python",
   "nbconvert_exporter": "python",
   "pygments_lexer": "ipython3",
   "version": "3.9.12"
  }
 },
 "nbformat": 4,
 "nbformat_minor": 5
}
