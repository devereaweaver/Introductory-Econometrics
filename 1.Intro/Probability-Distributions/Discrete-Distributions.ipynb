{
 "cells": [
  {
   "cell_type": "markdown",
   "id": "fd68bd72-b7d9-4914-947c-5c29ba58192a",
   "metadata": {},
   "source": [
    "# Discrete Distributions \n",
    "\n",
    "Many of the most important discrete probablility distributions are built into the scipy library. As an example, we'll let $X$ be the random variable that denotes the number of white balls we get when draw with replacement 10 balls from an urn that includes 20% white balls. \n",
    "\n",
    "Then, this means $X$ follows a Binomial distribution (refer to old notes or online to pull up the Binomial formula. Since we are using Python here, we can go ahead and let the software do the actual computation. "
   ]
  },
  {
   "cell_type": "code",
   "execution_count": 7,
   "id": "b4c8de28-fed3-4fe3-b3c1-8df0664ff6a3",
   "metadata": {},
   "outputs": [],
   "source": [
    "import scipy.stats as stats\n",
    "import pandas as pd\n",
    "import numpy as np\n",
    "import matplotlib.pyplot as plt"
   ]
  },
  {
   "cell_type": "code",
   "execution_count": 8,
   "id": "a65982a7-11f6-4494-b634-4a229ba19747",
   "metadata": {},
   "outputs": [
    {
     "data": {
      "text/plain": [
       "0.30198988800000004"
      ]
     },
     "execution_count": 8,
     "metadata": {},
     "output_type": "execute_result"
    }
   ],
   "source": [
    "# compute the binomial distribution (won't use the 'pedestrian' approach', simply use scipy functions)\n",
    "prob = stats.binom.pmf(2, 10, 0.2)\n",
    "prob"
   ]
  },
  {
   "cell_type": "markdown",
   "id": "f1915a0b-74bd-48a2-af94-a34a77648b57",
   "metadata": {},
   "source": [
    "<br>Here, the arguments list is (x, n, p). \n",
    "\n",
    "These scipy functions for evaluating PMFs/PDFs can also take an array so that we can evaluate a group of numbers instead of just one at a time."
   ]
  },
  {
   "cell_type": "code",
   "execution_count": 10,
   "id": "c59324e7-0c85-4132-b3e2-7ff779372db7",
   "metadata": {},
   "outputs": [],
   "source": [
    "# all values for x [0, 10]\n",
    "x = np.linspace(0, 10, num=11)    # num = number of samples to generate "
   ]
  },
  {
   "cell_type": "code",
   "execution_count": 13,
   "id": "d28ee3fd-2519-4ed2-9f0d-02321547d7c6",
   "metadata": {},
   "outputs": [],
   "source": [
    "# evaluate PMF for all the values \n",
    "fx = stats.binom.pmf(x, 10, 0.2)"
   ]
  },
  {
   "cell_type": "code",
   "execution_count": 14,
   "id": "f68a64f6-9e05-4512-9fef-cb8ac049c4de",
   "metadata": {},
   "outputs": [
    {
     "name": "stdout",
     "output_type": "stream",
     "text": [
      "result: \n",
      "       x            fx\n",
      "0    0.0  1.073742e-01\n",
      "1    1.0  2.684355e-01\n",
      "2    2.0  3.019899e-01\n",
      "3    3.0  2.013266e-01\n",
      "4    4.0  8.808038e-02\n",
      "5    5.0  2.642412e-02\n",
      "6    6.0  5.505024e-03\n",
      "7    7.0  7.864320e-04\n",
      "8    8.0  7.372800e-05\n",
      "9    9.0  4.096000e-06\n",
      "10  10.0  1.024000e-07\n",
      "\n"
     ]
    }
   ],
   "source": [
    "# colect values into a DataFrame for further processing \n",
    "result = pd.DataFrame({'x': x, 'fx': fx})\n",
    "print(f'result: \\n{result}\\n')"
   ]
  },
  {
   "cell_type": "code",
   "execution_count": 18,
   "id": "43b461a4-31a8-4c43-9339-061c03256b34",
   "metadata": {},
   "outputs": [
    {
     "data": {
      "image/png": "[encoded data removed]",
      "text/plain": [
       "<Figure size 432x288 with 1 Axes>"
      ]
     },
     "metadata": {
      "needs_background": "light"
     },
     "output_type": "display_data"
    }
   ],
   "source": [
    "# generate bar chart of probabilities\n",
    "plt.bar(x, fx, color = 'red')\n",
    "plt.xlabel('x')\n",
    "plt.ylabel('f(x)')\n",
    "plt.title('Binomial PMF');"
   ]
  },
  {
   "cell_type": "code",
   "execution_count": null,
   "id": "8f2a2287-ab34-4954-864a-91533e14fb3b",
   "metadata": {},
   "outputs": [],
   "source": []
  }
 ],
 "metadata": {
  "kernelspec": {
   "display_name": "Python 3 (ipykernel)",
   "language": "python",
   "name": "python3"
  },
  "language_info": {
   "codemirror_mode": {
    "name": "ipython",
    "version": 3
   },
   "file_extension": ".py",
   "mimetype": "text/x-python",
   "name": "python",
   "nbconvert_exporter": "python",
   "pygments_lexer": "ipython3",
   "version": "3.9.12"
  }
 },
 "nbformat": 4,
 "nbformat_minor": 5
}
