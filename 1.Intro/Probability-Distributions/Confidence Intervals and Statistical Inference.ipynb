{
 "cells": [
  {
   "cell_type": "markdown",
   "id": "0885e7e1-256f-440e-aa20-c9d3bbc65655",
   "metadata": {},
   "source": [
    "# Confidence Intervals and Statistical Inference \n",
    "\n",
    "## Confidence Intervals \n",
    "\n",
    "Recall from statistics course, the confidence interval is the sample mean plus and minus the critical value times the standard error (for the normal population with unknown mean and variance). \n",
    "\n",
    "In order to see how to compute all these ingredients manually, let's consider the example given in the text. In this example we are given the scrap rates for two years and we are interested in creating a 95% confidence interval for the change between the two years. \n",
    "\n",
    "In this example, we assume the change in scrap rates has a normal distribution. "
   ]
  },
  {
   "cell_type": "code",
   "execution_count": 1,
   "id": "d4a3b924-300d-4dd9-b0a5-2c16d17a5f1d",
   "metadata": {},
   "outputs": [],
   "source": [
    "import numpy as np\n",
    "import scipy.stats as stats\n",
    "import matplotlib.pyplot as plt"
   ]
  },
  {
   "cell_type": "code",
   "execution_count": 8,
   "id": "c6eeb602-00e6-4c1d-8980-b0f05934a90a",
   "metadata": {},
   "outputs": [],
   "source": [
    "# enter raw observations \n",
    "sr87 = np.array([10, 1, 6, .45, 1.25, 1.3, 1.06, 3, 8.18, 1.67,\n",
    "                 .98, 1, .45, 5.03, 8, 9, 18, .28, 7, 3.97])\n",
    "\n",
    "sr88 = np.array([3, 1, 5, .5, 1.54, 1.5, .8, 2, .67, 1.17, .51,\n",
    "                 .5, .61, 6.7, 4, 7, 19, .2, 5, 3.83])"
   ]
  },
  {
   "cell_type": "code",
   "execution_count": 9,
   "id": "20036da9-a9a7-44bf-8d50-b9730272fbeb",
   "metadata": {},
   "outputs": [],
   "source": [
    "# calculate change in rates between years \n",
    "change = sr88 - sr87    # vectorized "
   ]
  },
  {
   "cell_type": "code",
   "execution_count": 13,
   "id": "7dab7e48-1a2e-453b-bbbc-36e3719e47d1",
   "metadata": {},
   "outputs": [
    {
     "name": "stdout",
     "output_type": "stream",
     "text": [
      "Sample average: -1.1544999999999999\n",
      "\n"
     ]
    }
   ],
   "source": [
    "# start computing ingredients to a CI formula \n",
    "change_avg = np.mean(change)    # y-bar\n",
    "print(f'Sample average: {y_bar}\\n')"
   ]
  },
  {
   "cell_type": "code",
   "execution_count": 16,
   "id": "7ef64bf9-d4dc-4ce8-baf5-e9dd3a8a1fdc",
   "metadata": {},
   "outputs": [
    {
     "name": "stdout",
     "output_type": "stream",
     "text": [
      "Standard error: 0.5367992249386514\n",
      "\n"
     ]
    }
   ],
   "source": [
    "n = len(change)\n",
    "change_std = np.std(change, ddof=1)    # remember, sample\n",
    "change_se = change_std / np.sqrt(n)\n",
    "print(f'Standard error: {change_se}\\n')"
   ]
  },
  {
   "cell_type": "code",
   "execution_count": 17,
   "id": "e3b45824-bca7-42da-807e-cbfee5bb21d0",
   "metadata": {},
   "outputs": [
    {
     "name": "stdout",
     "output_type": "stream",
     "text": [
      "Critical value: 2.093024054408263\n",
      "\n"
     ]
    }
   ],
   "source": [
    "crit_val = stats.t.ppf(.975, n-1)\n",
    "print(f'Critical value: {crit_val}\\n')"
   ]
  },
  {
   "cell_type": "code",
   "execution_count": 20,
   "id": "2e174a2b-14ee-44f3-89ae-339a986dde62",
   "metadata": {},
   "outputs": [
    {
     "name": "stdout",
     "output_type": "stream",
     "text": [
      "95% Confidence Interval: (-2.278, -0.031)\n",
      "\n"
     ]
    }
   ],
   "source": [
    "# produce confidence interval \n",
    "lower = change_avg - (crit_val * change_se)\n",
    "upper = change_avg + (crit_val * change_se)\n",
    "print(f'95% Confidence Interval: ({np.round_(lower, 4)}, {np.round_(upper, 4)})\\n')"
   ]
  },
  {
   "cell_type": "markdown",
   "id": "29a5e691-941c-46d3-8354-ff930f00e45d",
   "metadata": {},
   "source": [
    "<br>Notice, the confidence interval does not contain the value 0, therefore we conclude the with \"95% confidence\", that the average change in scrap rates in the population is not zero. In other words, there is a difference in the scrap rates between the two years. \n",
    "\n",
    "Also note, from an econometric standpoint, this conclusion is likely flawed. There are many other potential factors that we have not taken into account. We only accounted for one measure. However, this was simply an illustrative example. "
   ]
  }
 ],
 "metadata": {
  "kernelspec": {
   "display_name": "Python 3 (ipykernel)",
   "language": "python",
   "name": "python3"
  },
  "language_info": {
   "codemirror_mode": {
    "name": "ipython",
    "version": 3
   },
   "file_extension": ".py",
   "mimetype": "text/x-python",
   "name": "python",
   "nbconvert_exporter": "python",
   "pygments_lexer": "ipython3",
   "version": "3.9.12"
  }
 },
 "nbformat": 4,
 "nbformat_minor": 5
}
