{
 "cells": [
  {
   "cell_type": "markdown",
   "id": "44ba7562-9d20-4a55-a021-c90f9753f32e",
   "metadata": {},
   "source": [
    "# Discrete Distributions: Frequencies and Contingency Tables \n",
    "\n",
    "Since for discrete variables we are interested in the frequencies of outcomes, we can use the numpy *unique* or pandas *values_count* functions depending on the data type we have used for our data.\n",
    "\n",
    "A contingency table can also be created using the *crosstab* function in pandas. To get the share of each sample instead of the counts, add the *normalize* argument to the function call."
   ]
  },
  {
   "cell_type": "code",
   "execution_count": 62,
   "id": "27c94f61-d814-465e-a0b2-97461244fa9f",
   "metadata": {},
   "outputs": [],
   "source": [
    "import wooldridge as wool\n",
    "import numpy as np\n",
    "import pandas as pd\n",
    "import matplotlib.pyplot as plt"
   ]
  },
  {
   "cell_type": "code",
   "execution_count": 2,
   "id": "ff2e2336-841b-4530-a7a2-964de234718f",
   "metadata": {},
   "outputs": [],
   "source": [
    "# example using two variables \n",
    "affairs = wool.dataWoo('affairs')    # load built-in dataset "
   ]
  },
  {
   "cell_type": "code",
   "execution_count": 3,
   "id": "53994891-6382-4035-98f9-dbc77964e56c",
   "metadata": {},
   "outputs": [
    {
     "data": {
      "text/plain": [
       "pandas.core.frame.DataFrame"
      ]
     },
     "execution_count": 3,
     "metadata": {},
     "output_type": "execute_result"
    }
   ],
   "source": [
    "type(affairs)"
   ]
  },
  {
   "cell_type": "code",
   "execution_count": 4,
   "id": "bb3f3409-8818-4034-a113-13f4919800ab",
   "metadata": {},
   "outputs": [
    {
     "name": "stdout",
     "output_type": "stream",
     "text": [
      "<class 'pandas.core.frame.DataFrame'>\n",
      "RangeIndex: 601 entries, 0 to 600\n",
      "Data columns (total 19 columns):\n",
      " #   Column    Non-Null Count  Dtype  \n",
      "---  ------    --------------  -----  \n",
      " 0   id        601 non-null    int64  \n",
      " 1   male      601 non-null    int64  \n",
      " 2   age       601 non-null    float64\n",
      " 3   yrsmarr   601 non-null    float64\n",
      " 4   kids      601 non-null    int64  \n",
      " 5   relig     601 non-null    int64  \n",
      " 6   educ      601 non-null    int64  \n",
      " 7   occup     601 non-null    int64  \n",
      " 8   ratemarr  601 non-null    int64  \n",
      " 9   naffairs  601 non-null    int64  \n",
      " 10  affair    601 non-null    int64  \n",
      " 11  vryhap    601 non-null    int64  \n",
      " 12  hapavg    601 non-null    int64  \n",
      " 13  avgmarr   601 non-null    int64  \n",
      " 14  unhap     601 non-null    int64  \n",
      " 15  vryrel    601 non-null    int64  \n",
      " 16  smerel    601 non-null    int64  \n",
      " 17  slghtrel  601 non-null    int64  \n",
      " 18  notrel    601 non-null    int64  \n",
      "dtypes: float64(2), int64(17)\n",
      "memory usage: 89.3 KB\n"
     ]
    }
   ],
   "source": [
    "affairs.info()"
   ]
  },
  {
   "cell_type": "markdown",
   "id": "3e22d06d-79ec-4ddf-befc-f5f3dbb5382b",
   "metadata": {},
   "source": [
    "<br>From this dataset, we'll only use the variables kids and ratemarr (two categorical variables)."
   ]
  },
  {
   "cell_type": "code",
   "execution_count": 10,
   "id": "fe44b65d-3553-40b1-9ffa-9f9fd9c15f41",
   "metadata": {},
   "outputs": [],
   "source": [
    "# adjust encoding from 1-5 to 0-4\n",
    "affairs.ratemarr = affairs.ratemarr - 1"
   ]
  },
  {
   "cell_type": "code",
   "execution_count": 11,
   "id": "5f87a0ba-83bd-475d-b29f-38004a28edeb",
   "metadata": {},
   "outputs": [
    {
     "data": {
      "text/plain": [
       "4    232\n",
       "3    194\n",
       "2     93\n",
       "1     66\n",
       "0     16\n",
       "Name: ratemarr, dtype: int64"
      ]
     },
     "execution_count": 11,
     "metadata": {},
     "output_type": "execute_result"
    }
   ],
   "source": [
    "affairs.ratemarr.value_counts()"
   ]
  },
  {
   "cell_type": "code",
   "execution_count": 20,
   "id": "15d98814-a8fe-46f2-8938-e9b35f9b6571",
   "metadata": {},
   "outputs": [],
   "source": [
    "# create a new categorical data type based on existing data (add label to record)\n",
    "affairs['haskids'] = pd.Categorical.from_codes(affairs.kids, categories=['no', 'yes'])"
   ]
  },
  {
   "cell_type": "code",
   "execution_count": 23,
   "id": "8147493b-30dd-4084-880b-eb3f0f3d1b23",
   "metadata": {},
   "outputs": [],
   "source": [
    "# create label based on marriage rating\n",
    "mlab = ['very unhappy', 'unhappy', 'average', 'happy', 'very happy']\n",
    "affairs['marriage'] = pd.Categorical.from_codes(affairs.ratemarr, categories=mlab)"
   ]
  },
  {
   "cell_type": "code",
   "execution_count": 24,
   "id": "bb52b992-2b81-4e89-a17f-f7c4fa6cd24d",
   "metadata": {},
   "outputs": [
    {
     "name": "stdout",
     "output_type": "stream",
     "text": [
      "<class 'pandas.core.frame.DataFrame'>\n",
      "RangeIndex: 601 entries, 0 to 600\n",
      "Data columns (total 21 columns):\n",
      " #   Column    Non-Null Count  Dtype   \n",
      "---  ------    --------------  -----   \n",
      " 0   id        601 non-null    int64   \n",
      " 1   male      601 non-null    int64   \n",
      " 2   age       601 non-null    float64 \n",
      " 3   yrsmarr   601 non-null    float64 \n",
      " 4   kids      601 non-null    int64   \n",
      " 5   relig     601 non-null    int64   \n",
      " 6   educ      601 non-null    int64   \n",
      " 7   occup     601 non-null    int64   \n",
      " 8   ratemarr  601 non-null    int64   \n",
      " 9   naffairs  601 non-null    int64   \n",
      " 10  affair    601 non-null    int64   \n",
      " 11  vryhap    601 non-null    int64   \n",
      " 12  hapavg    601 non-null    int64   \n",
      " 13  avgmarr   601 non-null    int64   \n",
      " 14  unhap     601 non-null    int64   \n",
      " 15  vryrel    601 non-null    int64   \n",
      " 16  smerel    601 non-null    int64   \n",
      " 17  slghtrel  601 non-null    int64   \n",
      " 18  notrel    601 non-null    int64   \n",
      " 19  haskids   601 non-null    category\n",
      " 20  marriage  601 non-null    category\n",
      "dtypes: category(2), float64(2), int64(17)\n",
      "memory usage: 90.8 KB\n"
     ]
    }
   ],
   "source": [
    "# see the newly created labels\n",
    "affairs.info()"
   ]
  },
  {
   "cell_type": "code",
   "execution_count": 32,
   "id": "4840adfa-45c3-4fb3-b40a-5fbfd2171aa7",
   "metadata": {},
   "outputs": [
    {
     "name": "stdout",
     "output_type": "stream",
     "text": [
      "unique_elem_np: \n",
      "['average' 'happy' 'unhappy' 'very happy' 'very unhappy']\n",
      "\n",
      "counts_np: \n",
      "[ 93 194  66 232  16]\n",
      "\n"
     ]
    }
   ],
   "source": [
    "# generate frequency table with numpy \n",
    "ft_np = np.unique(affairs.marriage, return_counts=True)\n",
    "unique_elem_np = ft_np[0]    # extract array containing labels\n",
    "counts_np = ft_np[1]     # extract counts for each unique value\n",
    "print(f'unique_elem_np: \\n{unique_elem_np}\\n')\n",
    "print(f'counts_np: \\n{counts_np}\\n')"
   ]
  },
  {
   "cell_type": "code",
   "execution_count": 33,
   "id": "08f2f1b4-4f43-4869-9134-508dbabd8d67",
   "metadata": {},
   "outputs": [
    {
     "name": "stdout",
     "output_type": "stream",
     "text": [
      "ft_pd: \n",
      "very happy      232\n",
      "happy           194\n",
      "average          93\n",
      "unhappy          66\n",
      "very unhappy     16\n",
      "Name: marriage, dtype: int64\n",
      "\n"
     ]
    }
   ],
   "source": [
    "# generate frequencies table with pandas\n",
    "ft_pd = affairs.marriage.value_counts()\n",
    "print(f'ft_pd: \\n{ft_pd}\\n')"
   ]
  },
  {
   "cell_type": "markdown",
   "id": "d0ef4bbd-ad74-4d73-9578-db863a5d471a",
   "metadata": {},
   "source": [
    "<br>Personally, I think the pandas implementation is simpler and the default output looks better. \n",
    "\n",
    "Next, we can go ahead and generate a frequency table using groupby."
   ]
  },
  {
   "cell_type": "code",
   "execution_count": 35,
   "id": "9c7f9d07-ad6c-40c8-82a3-910cfbaa1d28",
   "metadata": {},
   "outputs": [
    {
     "name": "stdout",
     "output_type": "stream",
     "text": [
      "ft_pd2: \n",
      "no   very happy       96\n",
      "     happy            40\n",
      "     average          24\n",
      "     unhappy           8\n",
      "     very unhappy      3\n",
      "yes  happy           154\n",
      "     very happy      136\n",
      "     average          69\n",
      "     unhappy          58\n",
      "     very unhappy     13\n",
      "Name: marriage, dtype: int64\n",
      "\n"
     ]
    }
   ],
   "source": [
    "# generate frequency table grouped by the given argument \n",
    "ft_pd2 = affairs.marriage.groupby(affairs.haskids).value_counts()\n",
    "print(f'ft_pd2: \\n{ft_pd2}\\n')"
   ]
  },
  {
   "cell_type": "markdown",
   "id": "571a5bb1-aebf-4129-b6f4-25539e682786",
   "metadata": {},
   "source": [
    "<br>The above is useful; however, it might be even more useful to use an actual contingency table generated using pandas."
   ]
  },
  {
   "cell_type": "code",
   "execution_count": 44,
   "id": "1f3cb5d0-b8e0-48d5-96c0-d99f0aed53f3",
   "metadata": {},
   "outputs": [],
   "source": [
    "ct_all_tabs = pd.crosstab(affairs.marriage, affairs.haskids, margins=3)"
   ]
  },
  {
   "cell_type": "code",
   "execution_count": 46,
   "id": "41bc4564-3e83-492d-9c6c-79bf1006e13d",
   "metadata": {},
   "outputs": [
    {
     "name": "stdout",
     "output_type": "stream",
     "text": [
      "ct_all_tabs: \n",
      "col_0          no  yes  All\n",
      "marriage                   \n",
      "very unhappy    3   13   16\n",
      "unhappy         8   58   66\n",
      "average        24   69   93\n",
      "happy          40  154  194\n",
      "very happy     96  136  232\n",
      "All           171  430  601\n",
      "\n"
     ]
    }
   ],
   "source": [
    "print(f'ct_all_tabs: \\n{ct_all_tabs}\\n')"
   ]
  },
  {
   "cell_type": "code",
   "execution_count": 55,
   "id": "df4a0bb3-a06c-4fd2-94de-03f86e056c11",
   "metadata": {},
   "outputs": [],
   "source": [
    "# generate relative crosstab across rows and column \n",
    "ct_all_rel = pd.crosstab(affairs.marriage, affairs.haskids, normalize='all')"
   ]
  },
  {
   "cell_type": "code",
   "execution_count": 56,
   "id": "8a12560f-ba39-4100-994f-7351eea6690e",
   "metadata": {},
   "outputs": [
    {
     "name": "stdout",
     "output_type": "stream",
     "text": [
      "ct_all_rel: \n",
      "col_0               no       yes\n",
      "marriage                        \n",
      "very unhappy  0.004992  0.021631\n",
      "unhappy       0.013311  0.096506\n",
      "average       0.039933  0.114809\n",
      "happy         0.066556  0.256240\n",
      "very happy    0.159734  0.226290\n",
      "\n"
     ]
    }
   ],
   "source": [
    "print(f'ct_all_rel: \\n{ct_all_rel}\\n')"
   ]
  },
  {
   "cell_type": "code",
   "execution_count": 57,
   "id": "f26d2f8a-845d-40fb-a477-d994d60511fb",
   "metadata": {},
   "outputs": [
    {
     "name": "stdout",
     "output_type": "stream",
     "text": [
      "ct_row: \n",
      "col_0               no       yes\n",
      "marriage                        \n",
      "very unhappy  0.187500  0.812500\n",
      "unhappy       0.121212  0.878788\n",
      "average       0.258065  0.741935\n",
      "happy         0.206186  0.793814\n",
      "very happy    0.413793  0.586207\n",
      "\n"
     ]
    }
   ],
   "source": [
    "# share within 'marriage' (the share within each row only)\n",
    "ct_row = pd.crosstab(affairs.marriage, affairs.haskids, normalize='index')\n",
    "print(f'ct_row: \\n{ct_row}\\n')"
   ]
  },
  {
   "cell_type": "code",
   "execution_count": 61,
   "id": "df5b0519-69d7-4581-8915-cd0114312268",
   "metadata": {},
   "outputs": [
    {
     "name": "stdout",
     "output_type": "stream",
     "text": [
      "ct_col: \n",
      "col_0               no       yes\n",
      "marriage                        \n",
      "very unhappy  0.017544  0.030233\n",
      "unhappy       0.046784  0.134884\n",
      "average       0.140351  0.160465\n",
      "happy         0.233918  0.358140\n",
      "very happy    0.561404  0.316279\n",
      "\n"
     ]
    }
   ],
   "source": [
    "# share within 'haskids' (columns)\n",
    "ct_col = pd.crosstab(affairs.marriage, affairs.haskids, normalize='columns')\n",
    "print(f'ct_col: \\n{ct_col}\\n')"
   ]
  },
  {
   "cell_type": "markdown",
   "id": "5df3a14a-d7e1-4bbd-ade3-6efd08836fc7",
   "metadata": {},
   "source": [
    "<br>Now that we've create some frequency and crosstabs, let's look at this values graphically using basic pie and bar charts. "
   ]
  },
  {
   "cell_type": "code",
   "execution_count": 72,
   "id": "0030ed61-c251-436b-8b77-60c80628d0d3",
   "metadata": {},
   "outputs": [],
   "source": [
    "# generate counts for all graphs \n",
    "counts = affairs.marriage.value_counts()\n",
    "count_bykids = affairs.marriage.groupby(affairs.haskids).value_counts()\n",
    "counts_yes = count_bykids.yes\n",
    "counts_no = count_bykids.no"
   ]
  },
  {
   "cell_type": "code",
   "execution_count": 89,
   "id": "33d73e4d-8ea1-459c-acc6-f279480b5af7",
   "metadata": {},
   "outputs": [
    {
     "data": {
      "image/png": "[encoded data removed]",
      "text/plain": [
       "<Figure size 432x288 with 1 Axes>"
      ]
     },
     "metadata": {},
     "output_type": "display_data"
    }
   ],
   "source": [
    "# generate pie chart \n",
    "grey_colors = ['.3', '.4', '.5', '.6', '.7']\n",
    "counts_pie = plt.pie(counts, labels=mlab, colors=grey_colors);    # notice the semicolon supresses description output for some reason"
   ]
  },
  {
   "cell_type": "code",
   "execution_count": 95,
   "id": "f42df4bb-9cfd-42ab-a4f7-8a81fa8507c4",
   "metadata": {},
   "outputs": [
    {
     "data": {
      "image/png": "[encoded data removed]",
      "text/plain": [
       "<Figure size 432x288 with 1 Axes>"
      ]
     },
     "metadata": {
      "needs_background": "light"
     },
     "output_type": "display_data"
    }
   ],
   "source": [
    "# generate horizontal bar chart \n",
    "y_pos = [0, 1, 2, 3, 4]    # location for the bars \n",
    "plt.barh(y_pos, counts, color=['red', 'orange', 'yellow', 'blue', 'green'])\n",
    "plt.yticks(y_pos, mlab, rotation=60);"
   ]
  },
  {
   "cell_type": "code",
   "execution_count": 102,
   "id": "556d72f9-c207-49f2-b365-c6f22c82364d",
   "metadata": {},
   "outputs": [
    {
     "data": {
      "image/png": "[encoded data removed]",
      "text/plain": [
       "<Figure size 432x288 with 1 Axes>"
      ]
     },
     "metadata": {
      "needs_background": "light"
     },
     "output_type": "display_data"
    }
   ],
   "source": [
    "# generate grouped bar plot\n",
    "\n",
    "# add left bars first \n",
    "x_pos_leftbar = [-.2, .8, 1.8, 2.8, 3.8]\n",
    "plt.bar(x_pos_leftbar, counts_yes, width=.4, color='green', label='Yes')\n",
    "\n",
    "# add right bars \n",
    "x_pos_rightbar = [0.2, 1.2, 2.2, 3.2, 4.2]\n",
    "plt.bar(x_pos_rightbar, counts_no, width=.4, color='red', label='No')\n",
    "\n",
    "plt.ylabel('Counts')\n",
    "plt.xticks(x_pos, mlab)\n",
    "plt.legend();"
   ]
  }
 ],
 "metadata": {
  "kernelspec": {
   "display_name": "Python 3 (ipykernel)",
   "language": "python",
   "name": "python3"
  },
  "language_info": {
   "codemirror_mode": {
    "name": "ipython",
    "version": 3
   },
   "file_extension": ".py",
   "mimetype": "text/x-python",
   "name": "python",
   "nbconvert_exporter": "python",
   "pygments_lexer": "ipython3",
   "version": "3.9.12"
  }
 },
 "nbformat": 4,
 "nbformat_minor": 5
}
